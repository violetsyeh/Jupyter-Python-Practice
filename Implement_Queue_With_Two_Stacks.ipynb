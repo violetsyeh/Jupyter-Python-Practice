{
 "cells": [
  {
   "cell_type": "code",
   "execution_count": 1,
   "metadata": {},
   "outputs": [],
   "source": [
    "class Queue2Stacks(object):\n",
    "    \n",
    "    def __init__(self):\n",
    "        \n",
    "        # Two Stacks\n",
    "        self.in_stack = []\n",
    "        self.out_stack = []\n",
    "     \n",
    "    def enqueue(self,element):\n",
    "        \n",
    "        self.in_stack.append(element)\n",
    "    \n",
    "    def dequeue(self):\n",
    "        \n",
    "        if self.out_stack == []:\n",
    "            if self.in_stack == []:\n",
    "                return 'Cannot dequeue because queue is empty'\n",
    "            while len(self.in_stack) > 0:\n",
    "                p = self.in_stack.pop()\n",
    "                self.out_stack.append(p)\n",
    "        return self.out_stack.pop()"
   ]
  },
  {
   "cell_type": "code",
   "execution_count": 2,
   "metadata": {},
   "outputs": [
    {
     "name": "stdout",
     "output_type": "stream",
     "text": [
      "0\n",
      "1\n",
      "2\n",
      "3\n",
      "4\n"
     ]
    }
   ],
   "source": [
    "q = Queue2Stacks()\n",
    "\n",
    "for i in xrange(5):\n",
    "    q.enqueue(i)\n",
    "    \n",
    "for i in xrange(5):\n",
    "    print q.dequeue()"
   ]
  },
  {
   "cell_type": "code",
   "execution_count": null,
   "metadata": {},
   "outputs": [],
   "source": []
  }
 ],
 "metadata": {
  "kernelspec": {
   "display_name": "Python 2",
   "language": "python",
   "name": "python2"
  },
  "language_info": {
   "codemirror_mode": {
    "name": "ipython",
    "version": 2
   },
   "file_extension": ".py",
   "mimetype": "text/x-python",
   "name": "python",
   "nbconvert_exporter": "python",
   "pygments_lexer": "ipython2",
   "version": "2.7.15"
  }
 },
 "nbformat": 4,
 "nbformat_minor": 2
}
